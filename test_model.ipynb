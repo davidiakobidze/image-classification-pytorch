{
 "cells": [
  {
   "cell_type": "code",
   "execution_count": 8,
   "id": "initial_id",
   "metadata": {
    "collapsed": true,
    "ExecuteTime": {
     "end_time": "2024-04-10T15:30:50.992358Z",
     "start_time": "2024-04-10T15:30:50.777548Z"
    }
   },
   "outputs": [
    {
     "name": "stdout",
     "output_type": "stream",
     "text": [
      "1122.66\n",
      "Inference result: back_of_right_hand\n"
     ]
    }
   ],
   "source": [
    "from PIL import Image\n",
    "import numpy as np\n",
    "from openvino.inference_engine import IECore\n",
    "\n",
    "# Path to the IR files\n",
    "model_xml = 'model.xml'\n",
    "model_bin = 'model.bin'\n",
    "\n",
    "# Load the Inference Engine\n",
    "ie = IECore()\n",
    "\n",
    "pretrained_means = [0.485, 0.456, 0.406]\n",
    "pretrained_stds = [0.229, 0.224, 0.225]\n",
    "\n",
    "# Load the network\n",
    "net = ie.read_network(model=model_xml, weights=model_bin)\n",
    "\n",
    "# Get the input and output names\n",
    "input_name = next(iter(net.input_info))\n",
    "output_name = next(iter(net.outputs))\n",
    "\n",
    "# Read and preprocess the input image\n",
    "# Load and preprocess the image\n",
    "image_path = \"test.jpg\"\n",
    "image = Image.open(image_path).convert(\"RGB\")\n",
    "image = image.resize((224, 224))  # Resize the image to match the model's input size\n",
    "image_array = np.array(image)\n",
    "image_array = (image_array / 255.0 - pretrained_means) / pretrained_stds\n",
    "# image_array /= 255.0  # Normalize pixel values to the range [0, 1]\n",
    "image_array = np.transpose(image_array, (2, 0, 1))  # Change the shape to (3, 224, 224)\n",
    "image_array = np.expand_dims(image_array, axis=0)  # Add batch dimension\n",
    "\n",
    "# Load the model to the device\n",
    "exec_net = ie.load_network(network=net, device_name='CPU')\n",
    "\n",
    "# Perform inference\n",
    "result = exec_net.infer(inputs={input_name: image_array})\n",
    "\n",
    "# Process the output\n",
    "names = []\n",
    "# classes.reverse()\n",
    "output_data = result['output']\n",
    "# Add your post-processing logic here\n",
    "print(round(np.max(output_data) * 100, 2))\n",
    "print(\"Inference result:\", names[np.argmax(output_data)])"
   ]
  },
  {
   "cell_type": "code",
   "execution_count": 19,
   "outputs": [],
   "source": [],
   "metadata": {
    "collapsed": false,
    "ExecuteTime": {
     "end_time": "2024-04-10T13:16:06.120385Z",
     "start_time": "2024-04-10T13:16:06.117614Z"
    }
   },
   "id": "6c746e6903981ca6"
  }
 ],
 "metadata": {
  "kernelspec": {
   "display_name": "Python 3",
   "language": "python",
   "name": "python3"
  },
  "language_info": {
   "codemirror_mode": {
    "name": "ipython",
    "version": 2
   },
   "file_extension": ".py",
   "mimetype": "text/x-python",
   "name": "python",
   "nbconvert_exporter": "python",
   "pygments_lexer": "ipython2",
   "version": "2.7.6"
  }
 },
 "nbformat": 4,
 "nbformat_minor": 5
}
